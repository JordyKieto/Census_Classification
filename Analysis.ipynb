{
 "cells": [
  {
   "cell_type": "code",
   "execution_count": 1,
   "metadata": {},
   "outputs": [],
   "source": [
    "import pandas as pd\n",
    "import pdb\n",
    "pd.set_option('display.max_columns', 500)\n",
    "categorical_cols = ['sex', 'education', 'race', 'country of birth self']\n",
    "from sklearn.neighbors import KNeighborsClassifier\n",
    "from sklearn.svm import SVC\n",
    "from sklearn.metrics import accuracy_score\n",
    "import matplotlib.pyplot as plt;\n",
    "import numpy as np\n",
    "import columns"
   ]
  },
  {
   "cell_type": "code",
   "execution_count": 2,
   "metadata": {},
   "outputs": [],
   "source": [
    "columns = columns.columns"
   ]
  },
  {
   "cell_type": "code",
   "execution_count": 3,
   "metadata": {},
   "outputs": [],
   "source": [
    "features = [ 'income', 'age', 'sex', 'education', 'race', 'weeks worked in year', 'country of birth self']"
   ]
  },
  {
   "cell_type": "code",
   "execution_count": 4,
   "metadata": {},
   "outputs": [],
   "source": [
    "census_data = pd.read_csv('census_income_learn.csv')\n",
    "test_census_data = pd.read_csv('census_income_test.csv')"
   ]
  },
  {
   "cell_type": "code",
   "execution_count": 5,
   "metadata": {},
   "outputs": [],
   "source": [
    "census_data.columns = columns\n",
    "test_census_data.columns = columns"
   ]
  },
  {
   "cell_type": "code",
   "execution_count": 6,
   "metadata": {},
   "outputs": [],
   "source": [
    "train_data = census_data[features]\n",
    "test_data = test_census_data[features]"
   ]
  },
  {
   "cell_type": "markdown",
   "metadata": {},
   "source": [
    "# Feature Extraction"
   ]
  },
  {
   "cell_type": "code",
   "execution_count": 7,
   "metadata": {},
   "outputs": [
    {
     "name": "stderr",
     "output_type": "stream",
     "text": [
      "//anaconda3/lib/python3.7/site-packages/pandas/core/frame.py:3940: SettingWithCopyWarning: \n",
      "A value is trying to be set on a copy of a slice from a DataFrame\n",
      "\n",
      "See the caveats in the documentation: http://pandas.pydata.org/pandas-docs/stable/indexing.html#indexing-view-versus-copy\n",
      "  errors=errors)\n"
     ]
    }
   ],
   "source": [
    "def extract_features(df):\n",
    "    for col in categorical_cols:\n",
    "        new_cols = pd.get_dummies(df[col])\n",
    "        df.drop(columns=[col], inplace=True)\n",
    "        df = df.join(new_cols)\n",
    "    return df\n",
    "    \n",
    "train_data = extract_features(train_data)\n",
    "test_data = extract_features(test_data)"
   ]
  },
  {
   "cell_type": "code",
   "execution_count": 8,
   "metadata": {},
   "outputs": [],
   "source": [
    "X_train, Y_train, X_test, Y_test = [train_data.iloc[:, 1:], train_data.iloc[:, :1], test_data.iloc[:, 1:], test_data.iloc[:, :1]]"
   ]
  },
  {
   "cell_type": "markdown",
   "metadata": {},
   "source": [
    "# Training the models"
   ]
  },
  {
   "cell_type": "code",
   "execution_count": 9,
   "metadata": {},
   "outputs": [],
   "source": [
    "KNN_model = KNeighborsClassifier(n_neighbors=5)\n",
    "SVC_model = SVC()"
   ]
  },
  {
   "cell_type": "code",
   "execution_count": 10,
   "metadata": {},
   "outputs": [
    {
     "name": "stderr",
     "output_type": "stream",
     "text": [
      "//anaconda3/lib/python3.7/site-packages/ipykernel_launcher.py:1: DataConversionWarning: A column-vector y was passed when a 1d array was expected. Please change the shape of y to (n_samples, ), for example using ravel().\n",
      "  \"\"\"Entry point for launching an IPython kernel.\n"
     ]
    },
    {
     "data": {
      "text/plain": [
       "KNeighborsClassifier(algorithm='auto', leaf_size=30, metric='minkowski',\n",
       "                     metric_params=None, n_jobs=None, n_neighbors=5, p=2,\n",
       "                     weights='uniform')"
      ]
     },
     "execution_count": 10,
     "metadata": {},
     "output_type": "execute_result"
    }
   ],
   "source": [
    "KNN_model.fit(X_train, Y_train)\n",
    "#SVC_model.fit(X_train, Y_train)"
   ]
  },
  {
   "cell_type": "markdown",
   "metadata": {},
   "source": [
    "# Validating accuracy of models"
   ]
  },
  {
   "cell_type": "code",
   "execution_count": 11,
   "metadata": {},
   "outputs": [],
   "source": [
    "prediction_01 = KNN_model.predict(X_test)\n",
    "# prediction_02 = SVC_model.predict(X_test)\n",
    "# accuracy_score(prediction_01, Y_test)\n",
    "# accuracy_score(prediction_02, Y_test)"
   ]
  },
  {
   "cell_type": "code",
   "execution_count": 12,
   "metadata": {},
   "outputs": [
    {
     "data": {
      "text/plain": [
       "0.9357063381481742"
      ]
     },
     "execution_count": 12,
     "metadata": {},
     "output_type": "execute_result"
    }
   ],
   "source": [
    "accuracy_score(prediction_01, Y_test)\n",
    "#, accuracy_score(prediction_02, Y_test)"
   ]
  },
  {
   "cell_type": "markdown",
   "metadata": {},
   "source": [
    "# Correlation of features, sorted by correlation to income"
   ]
  },
  {
   "cell_type": "code",
   "execution_count": 13,
   "metadata": {},
   "outputs": [],
   "source": [
    "corr_df = train_data.copy()"
   ]
  },
  {
   "cell_type": "code",
   "execution_count": 14,
   "metadata": {},
   "outputs": [],
   "source": [
    "corr_df['income'] = [True if x == ' 50000+.' else False for x in corr_df['income']]"
   ]
  },
  {
   "cell_type": "code",
   "execution_count": 15,
   "metadata": {},
   "outputs": [
    {
     "data": {
      "text/plain": [
       " Female                                        -0.157609\n",
       " Children                                      -0.143627\n",
       " High school graduate                          -0.054520\n",
       " Black                                         -0.049827\n",
       " 7th and 8th grade                             -0.044974\n",
       " 10th grade                                    -0.044289\n",
       " 9th grade                                     -0.041641\n",
       " 11th grade                                    -0.040624\n",
       " 5th or 6th grade                              -0.029643\n",
       " Foreign born- Not a citizen of U S            -0.028188\n",
       " 1st 2nd 3rd or 4th grade                      -0.021679\n",
       " Other                                         -0.021054\n",
       " 12th grade no diploma                         -0.019815\n",
       " Amer Indian Aleut or Eskimo                   -0.017839\n",
       " Less than 1st grade                           -0.016189\n",
       " Native- Born in Puerto Rico or U S Outlying   -0.014643\n",
       " Some college but no degree                     0.003631\n",
       " Native- Born abroad of American Parent(s)      0.004232\n",
       " Asian or Pacific Islander                      0.008370\n",
       " Associates degree-occup /vocational            0.010344\n",
       " Native- Born in the United States              0.010846\n",
       "weeks worked in year                            0.014795\n",
       " Associates degree-academic program             0.020062\n",
       " Foreign born- U S citizen by naturalization    0.026667\n",
       " White                                          0.050039\n",
       "age                                             0.135724\n",
       " Doctorate degree(PhD EdD)                      0.151561\n",
       " Male                                           0.157609\n",
       " Bachelors degree(BA AB BS)                     0.186097\n",
       " Prof school degree (MD DDS DVM LLB JD)         0.188815\n",
       " Masters degree(MA MS MEng MEd MSW MBA)         0.190403\n",
       "income                                          1.000000\n",
       "Name: income, dtype: float64"
      ]
     },
     "execution_count": 15,
     "metadata": {},
     "output_type": "execute_result"
    }
   ],
   "source": [
    "corr_df.corr().sort_values(by='income')['income']"
   ]
  },
  {
   "cell_type": "markdown",
   "metadata": {},
   "source": [
    "# The number of males making 50000+ vs the number of females"
   ]
  },
  {
   "cell_type": "code",
   "execution_count": 16,
   "metadata": {
    "scrolled": true
   },
   "outputs": [
    {
     "data": {
      "text/plain": [
       "([<matplotlib.patches.Wedge at 0x1a1c204400>,\n",
       "  <matplotlib.patches.Wedge at 0x1a1c2048d0>],\n",
       " [Text(-0.8583216442286628, 0.6879563612967068, 'Male'),\n",
       "  Text(0.8583216764342231, -0.6879563211157705, 'Female')])"
      ]
     },
     "execution_count": 16,
     "metadata": {},
     "output_type": "execute_result"
    },
    {
     "data": {
      "image/png": "[encoded data removed]",
      "text/plain": [
       "<Figure size 432x288 with 1 Axes>"
      ]
     },
     "metadata": {},
     "output_type": "display_data"
    }
   ],
   "source": [
    "males_over_5000 = train_data.loc[(train_data[' Male'] == 1) & (train_data['income'] == ' 50000+.')].shape[0]\n",
    "females_over_5000 = train_data.loc[(train_data[' Female'] == 1) & (train_data['income'] == ' 50000+.')].shape[0]\n",
    "plt.pie([males_over_5000, females_over_5000], labels=['Male', 'Female'])"
   ]
  },
  {
   "cell_type": "markdown",
   "metadata": {},
   "source": [
    "# Education Level, and Percentage of individuals at that level who make 50000+"
   ]
  },
  {
   "cell_type": "code",
   "execution_count": 17,
   "metadata": {},
   "outputs": [],
   "source": [
    "educational_levels = (' Masters degree(MA MS MEng MEd MSW MBA)', ' High school graduate', ' Some college but no degree')\n",
    "percentages_over_50000 = []\n",
    "for edu in educational_levels:\n",
    "    total_edu_holders = train_data.loc[train_data[edu] == 1]\n",
    "    edu_with_5000_plus = total_edu_holders.loc[total_edu_holders['income'] == ' 50000+.']\n",
    "    percentages_over_50000 += [( edu_with_5000_plus.shape[0] / total_edu_holders.shape[0]) * 100]"
   ]
  },
  {
   "cell_type": "code",
   "execution_count": 18,
   "metadata": {},
   "outputs": [
    {
     "data": {
      "image/png": "[encoded data removed]",
      "text/plain": [
       "<Figure size 432x288 with 1 Axes>"
      ]
     },
     "metadata": {
      "needs_background": "light"
     },
     "output_type": "display_data"
    }
   ],
   "source": [
    "y_pos = np.arange(len(educational_levels))\n",
    "performance = percentages_over_50000\n",
    "\n",
    "plt.bar(y_pos, performance, align='center', alpha=0.5)\n",
    "plt.xticks(y_pos, ['Masters', 'High School', 'Some College'])\n",
    "plt.ylabel('Percent making over 50000')\n",
    "plt.title('Educational Level vs Percentage making 50000+')\n",
    "\n",
    "plt.show()"
   ]
  },
  {
   "cell_type": "markdown",
   "metadata": {},
   "source": [
    "# Age vs Number of Individuals Making Income of 50000+"
   ]
  },
  {
   "cell_type": "code",
   "execution_count": 19,
   "metadata": {},
   "outputs": [],
   "source": [
    "def sum_income(incomes):\n",
    "    return sum([1 if income == ' 50000+.' else 0 for income in incomes])"
   ]
  },
  {
   "cell_type": "code",
   "execution_count": 20,
   "metadata": {},
   "outputs": [
    {
     "name": "stderr",
     "output_type": "stream",
     "text": [
      "//anaconda3/lib/python3.7/site-packages/ipykernel_launcher.py:12: UserWarning: Matplotlib is currently using module://ipykernel.pylab.backend_inline, which is a non-GUI backend, so cannot show the figure.\n",
      "  if sys.path[0] == '':\n"
     ]
    },
    {
     "data": {
      "image/png": "[encoded data removed]",
      "text/plain": [
       "<Figure size 432x288 with 1 Axes>"
      ]
     },
     "metadata": {
      "needs_background": "light"
     },
     "output_type": "display_data"
    }
   ],
   "source": [
    "age_by_total_over_50000 = train_data.groupby('age').agg({'income': [sum_income]})\n",
    "age_by_total_over_50000\n",
    "\n",
    "n = 9\n",
    "\n",
    "ax = age_by_total_over_50000.plot(kind='bar')\n",
    "ticks = ax.xaxis.get_ticklocs()\n",
    "ticklabels = [l.get_text() for l in ax.xaxis.get_ticklabels()]\n",
    "ax.xaxis.set_ticks(ticks[::n])\n",
    "ax.xaxis.set_ticklabels(ticklabels[::n])\n",
    "\n",
    "ax.figure.show()"
   ]
  },
  {
   "cell_type": "code",
   "execution_count": null,
   "metadata": {},
   "outputs": [],
   "source": []
  }
 ],
 "metadata": {
  "kernelspec": {
   "display_name": "Python 3",
   "language": "python",
   "name": "python3"
  },
  "language_info": {
   "codemirror_mode": {
    "name": "ipython",
    "version": 3
   },
   "file_extension": ".py",
   "mimetype": "text/x-python",
   "name": "python",
   "nbconvert_exporter": "python",
   "pygments_lexer": "ipython3",
   "version": "3.7.3"
  }
 },
 "nbformat": 4,
 "nbformat_minor": 2
}
